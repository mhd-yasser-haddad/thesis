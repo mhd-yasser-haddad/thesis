{
  "cells": [
    {
      "cell_type": "markdown",
      "metadata": {},
      "source": []
    },
    {
      "cell_type": "markdown",
      "metadata": {},
      "source": [
        "## Import Libraries"
      ]
    },
    {
      "cell_type": "code",
      "execution_count": 4,
      "metadata": {
        "id": "bmgsknEskZ1V"
      },
      "outputs": [],
      "source": [
        "import re\n",
        "import datasets\n",
        "from collections import Counter\n",
        "from datasets import load_dataset, DatasetDict"
      ]
    },
    {
      "cell_type": "markdown",
      "metadata": {},
      "source": [
        "## Reading CSV files"
      ]
    },
    {
      "cell_type": "markdown",
      "metadata": {},
      "source": [
        "### Dataset Usage"
      ]
    },
    {
      "cell_type": "code",
      "execution_count": 2,
      "metadata": {},
      "outputs": [
        {
          "name": "stdout",
          "output_type": "stream",
          "text": [
            "13593417\n"
          ]
        }
      ],
      "source": [
        "folder_path = \"./1 Billion Citation Dataset/1 Billion Citation Dataset/\"\n",
        "train_files = [folder_path+\"1 Billion Citation Dataset, v1 (1).csv\", folder_path+\"1 Billion Citation Dataset, v1 (10).csv\", folder_path+\"1 Billion Citation Dataset, v1 (100).csv\"]\n",
        "\n",
        "dataset = load_dataset(\"csv\", data_files=train_files, split=\"train\")\n",
        "print(len(dataset))"
      ]
    },
    {
      "cell_type": "code",
      "execution_count": 3,
      "metadata": {},
      "outputs": [],
      "source": [
        "# Shuffle the dataset\n",
        "full_train_dataset = dataset.shuffle(seed=42)\n",
        "\n",
        "# Compute validation and test set sizes (5% each)\n",
        "valid_size = int(0.05 * len(full_train_dataset))\n",
        "test_size = valid_size\n",
        "\n",
        "# Create new validation and test splits\n",
        "valid_dataset = full_train_dataset.select(range(valid_size))  # First 5% as validation\n",
        "test_dataset = full_train_dataset.select(range(valid_size, valid_size + test_size))  # Next 5% as test\n",
        "train_dataset = full_train_dataset.select(range(valid_size + test_size, len(full_train_dataset)))  # Remaining 90% as train"
      ]
    },
    {
      "cell_type": "code",
      "execution_count": 4,
      "metadata": {},
      "outputs": [
        {
          "name": "stdout",
          "output_type": "stream",
          "text": [
            "DatasetDict({\n",
            "    train: Dataset({\n",
            "        features: ['doi', 'articleType', 'citationStyle', 'citationStringAnnotated', 'Unnamed: 4'],\n",
            "        num_rows: 12234077\n",
            "    })\n",
            "    valid: Dataset({\n",
            "        features: ['doi', 'articleType', 'citationStyle', 'citationStringAnnotated', 'Unnamed: 4'],\n",
            "        num_rows: 679670\n",
            "    })\n",
            "    test: Dataset({\n",
            "        features: ['doi', 'articleType', 'citationStyle', 'citationStringAnnotated', 'Unnamed: 4'],\n",
            "        num_rows: 679670\n",
            "    })\n",
            "})\n"
          ]
        }
      ],
      "source": [
        "# Create final DatasetDict\n",
        "datasets = DatasetDict({\n",
        "    \"train\": train_dataset,\n",
        "    \"valid\": valid_dataset,\n",
        "    \"test\": test_dataset\n",
        "})\n",
        "\n",
        "# Verify the dataset sizes\n",
        "print(datasets)"
      ]
    },
    {
      "cell_type": "markdown",
      "metadata": {},
      "source": [
        "## Data Preparation"
      ]
    },
    {
      "cell_type": "markdown",
      "metadata": {},
      "source": [
        "### Data Reading"
      ]
    },
    {
      "cell_type": "code",
      "execution_count": 5,
      "metadata": {},
      "outputs": [],
      "source": [
        "ALLOWED_LABELS = ['AUTHOR', 'YEAR', 'TITLE', 'CONTAINER-TITLE', 'VOLUME', 'ISSUE', 'PAGE', 'ISBN', 'ISSN', 'PUBLISHER', 'DOI', 'URL']"
      ]
    },
    {
      "cell_type": "markdown",
      "metadata": {},
      "source": [
        "### Data filtering and parsing"
      ]
    },
    {
      "cell_type": "code",
      "execution_count": 6,
      "metadata": {},
      "outputs": [
        {
          "name": "stdout",
          "output_type": "stream",
          "text": [
            "This is a <title>Simple Example</title> with a <year>2024</year> tag.\n"
          ]
        }
      ],
      "source": [
        "TAG_PATTERN = re.compile(r'<(?P<tag>[\\w\\s-]+)>(?P<content>.*?)</(?P=tag)>', re.S)\n",
        "\n",
        "def delete_tag(tag_name, reference):\n",
        "    tag = \"<\" + tag_name + \">\"\n",
        "    closing_tag = \"</\" + tag_name + \">\"\n",
        "    new_reference = reference.replace(tag, '').replace(closing_tag, '')\n",
        "    return new_reference\n",
        "\n",
        "\n",
        "def clean_reference(reference):\n",
        "    for match in TAG_PATTERN.finditer(reference):\n",
        "        tag = match.group(\"tag\")\n",
        "        content = match.group(\"content\")\n",
        "\n",
        "        if tag and tag.upper() in ALLOWED_LABELS:\n",
        "            reference = reference.replace(content, clean_reference(content))\n",
        "        elif tag:\n",
        "            reference = delete_tag(tag, reference)\n",
        "    return reference\n",
        "\n",
        "def clean_reference_batch(batch):\n",
        "    return {\"cleaned_text\": [clean_reference(ref) for ref in batch[\"citationStringAnnotated\"]]}  # Process each reference\n",
        "\n",
        "# Example String\n",
        "text = \"This is a <title><this>Simple Example</this></title> with a <test><year>2024</year></test> tag.\"\n",
        "\n",
        "# Detect tags and their content\n",
        "print(clean_reference(text))"
      ]
    },
    {
      "cell_type": "code",
      "execution_count": 7,
      "metadata": {},
      "outputs": [
        {
          "data": {
            "text/plain": [
              "{'doi': '10.3748/wjg.v11.i31.4916',\n",
              " 'articleType': 3,\n",
              " 'citationStyle': 1033,\n",
              " 'citationStringAnnotated': '<author><family>Chen</family> <given>K-S</given></author>. <publisher>Baishideng Publishing Group Inc.</publisher>, <issued><year>2005</year></issued>. <title>Expression of heparanase mRNA in anti-sense oligonucleotide-transfected human esophageal cancer EC9706 cells</title>[J]. <container-title>World Journal of Gastroenterology</container-title>, <issued><year>2005</year></issued>, <volume>11</volume>(<issue>31</issue>): <page>4916</page>.',\n",
              " 'Unnamed: 4': None}"
            ]
          },
          "execution_count": 7,
          "metadata": {},
          "output_type": "execute_result"
        }
      ],
      "source": [
        "datasets['train'][0]"
      ]
    },
    {
      "cell_type": "code",
      "execution_count": 8,
      "metadata": {},
      "outputs": [
        {
          "name": "stderr",
          "output_type": "stream",
          "text": [
            "Map: 100%|██████████| 12234077/12234077 [10:37<00:00, 19203.91 examples/s]\n",
            "Map: 100%|██████████| 679670/679670 [00:34<00:00, 19814.01 examples/s]\n",
            "Map: 100%|██████████| 679670/679670 [00:34<00:00, 19584.03 examples/s]\n"
          ]
        }
      ],
      "source": [
        "datasets = datasets.map(clean_reference_batch, batched=True)"
      ]
    },
    {
      "cell_type": "code",
      "execution_count": 9,
      "metadata": {},
      "outputs": [
        {
          "data": {
            "text/plain": [
              "['<author>Chen K-S</author>. <publisher>Baishideng Publishing Group Inc.</publisher>, <year>2005</year>. <title>Expression of heparanase mRNA in anti-sense oligonucleotide-transfected human esophageal cancer EC9706 cells</title>[J]. <container-title>World Journal of Gastroenterology</container-title>, <year>2005</year>, <volume>11</volume>(<issue>31</issue>): <page>4916</page>.',\n",
              " '<author>McIntire, Roger W. and Colley, Thomas A.</author> (<year>1967</year>), <title>Social Reinforcement in the Dog</title>. <container-title>Psychological Reports</container-title>, <volume>20</volume>(<issue>3</issue>): <page>843–846</page>. available at <URL>http://dx.doi.org/10.2466/pr0.1967.20.3.843</URL> ',\n",
              " '<author>M. Maguire</author>, <title>“Does usability=attractiveness?,”</title> in <container-title>Design and Emotion</container-title>, <publisher>CRC Press</publisher>, <year>2003</year>, pp. <page>303–307</page>.',\n",
              " '<author>Walters, G.D.</author> (<year>2001</year>) <container-title>Journal of Gambling Studies</container-title>, <volume>17</volume>(<issue>4</issue>) <publisher>Springer Nature</publisher>, pp. <page>255–271</page>.',\n",
              " '<author>Rost P, Fettweis G</author> (<year>2008</year>) <title>Achievable Rates in Gaussian Half-Duplex Multiple Relay Networks</title>. In: <container-title>IEEE GLOBECOM 2008 - 2008 IEEE Global Telecommunications Conference</container-title>. <publisher>IEEE</publisher> [online] URL: <URL>http://dx.doi.org/10.1109/glocom.2008.ecp.239</URL>']"
            ]
          },
          "execution_count": 9,
          "metadata": {},
          "output_type": "execute_result"
        }
      ],
      "source": [
        "datasets['train'][:5][\"cleaned_text\"]"
      ]
    },
    {
      "cell_type": "code",
      "execution_count": 10,
      "metadata": {},
      "outputs": [
        {
          "data": {
            "text/plain": [
              "['<author><family>Chen</family> <given>K-S</given></author>. <publisher>Baishideng Publishing Group Inc.</publisher>, <issued><year>2005</year></issued>. <title>Expression of heparanase mRNA in anti-sense oligonucleotide-transfected human esophageal cancer EC9706 cells</title>[J]. <container-title>World Journal of Gastroenterology</container-title>, <issued><year>2005</year></issued>, <volume>11</volume>(<issue>31</issue>): <page>4916</page>.',\n",
              " '<author><family>McIntire</family>, <given>Roger W.</given> and <family>Colley</family>, <given>Thomas A.</given></author> (<issued><year>1967</year></issued>), <title>Social Reinforcement in the Dog</title>. <container-title>Psychological Reports</container-title>, <volume>20</volume>(<issue>3</issue>): <page>843–846</page>. available at <URL>http://dx.doi.org/10.2466/pr0.1967.20.3.843</URL> ',\n",
              " '<author><given>M.</given> <family>Maguire</family></author>, <title>“Does usability=attractiveness?,”</title> in <container-title>Design and Emotion</container-title>, <publisher>CRC Press</publisher>, <issued><year>2003</year></issued>, pp. <page>303–307</page>.',\n",
              " '<author><family>Walters</family>, <given>G.D.</given></author> (<issued><year>2001</year></issued>) <container-title>Journal of Gambling Studies</container-title>, <volume>17</volume>(<issue>4</issue>) <publisher>Springer Nature</publisher>, pp. <page>255–271</page>.',\n",
              " '<author><family>Rost</family> <given>P</given>, <family>Fettweis</family> <given>G</given></author> (<issued><year>2008</year></issued>) <title>Achievable Rates in Gaussian Half-Duplex Multiple Relay Networks</title>. In: <container-title>IEEE GLOBECOM 2008 - 2008 IEEE Global Telecommunications Conference</container-title>. <publisher>IEEE</publisher> [online] URL: <URL>http://dx.doi.org/10.1109/glocom.2008.ecp.239</URL>']"
            ]
          },
          "execution_count": 10,
          "metadata": {},
          "output_type": "execute_result"
        }
      ],
      "source": [
        "datasets['train'][:5][\"citationStringAnnotated\"]"
      ]
    },
    {
      "cell_type": "markdown",
      "metadata": {},
      "source": [
        "### Tokenization and BIO tagging"
      ]
    },
    {
      "cell_type": "code",
      "execution_count": 29,
      "metadata": {},
      "outputs": [],
      "source": [
        "UNIQUE_TAGS = []\n",
        "def tokenize_and_tag(reference):\n",
        "    tokens_with_tags = []\n",
        "    while len(reference) > 0:\n",
        "        if reference[0].isspace():\n",
        "            reference = reference[1:]\n",
        "        elif reference[0] != \"<\" and bool(re.match(r'[^\\w\\s]', reference[0])):\n",
        "            current_tag = \"B-PUNC\"\n",
        "            tokens_with_tags.append((reference[0], current_tag))\n",
        "            reference = reference[1:]\n",
        "        else:\n",
        "            if reference[0] == \"<\":\n",
        "                match = TAG_PATTERN.match(reference)\n",
        "\n",
        "                if not match:\n",
        "                    current_tag = \"B-PUNC\"\n",
        "                    tokens_with_tags.append((reference[0], current_tag))\n",
        "                    reference = reference[1:]\n",
        "                    continue\n",
        "                \n",
        "                tag = match.group(\"tag\")\n",
        "\n",
        "                if tag.upper() not in ALLOWED_LABELS:\n",
        "                    reference = delete_tag(tag, reference)\n",
        "                    continue\n",
        "\n",
        "                current_tag = \"B-\" + tag.upper()\n",
        "                content = match.group(\"content\")\n",
        "                closing_tag = \"</\" + tag + \">\"\n",
        "                close_index = reference.find(closing_tag)\n",
        "                reference = reference[(close_index + len(closing_tag)):]\n",
        "            else:\n",
        "                next_tag = reference.find('<')\n",
        "                if next_tag == -1:\n",
        "                    next_tag = len(reference)\n",
        "                \n",
        "                tag = \"\"\n",
        "                content = reference[0:next_tag]\n",
        "                current_tag = \"O\"\n",
        "                reference = reference[next_tag:]\n",
        "            \n",
        "            if tag not in UNIQUE_TAGS:\n",
        "                UNIQUE_TAGS.append(tag)\n",
        "            \n",
        "            for word in content.split():\n",
        "                while bool(re.match(r'^[^\\w]', word)): # Checks if it starts with punctuation\n",
        "                    tokens_with_tags.append((word[0], \"B-PUNC\"))\n",
        "                    word = word[1:]\n",
        "                \n",
        "                end_punctuation = []\n",
        "                while bool(re.search(r'[^\\w]$', word)): # Checks if it ends with punctuation\n",
        "                    end_punctuation.append(word[-1])\n",
        "                    word = word[:-1]\n",
        "                \n",
        "                tokens_with_tags.append((word, current_tag))\n",
        "\n",
        "                for punctuation in reversed(end_punctuation):\n",
        "                    tokens_with_tags.append((punctuation, \"B-PUNC\"))\n",
        "                \n",
        "                if current_tag[0] == \"B\":\n",
        "                    current_tag = \"I-\" + tag.upper()\n",
        "                   \n",
        "    return tokens_with_tags\n",
        "\n",
        "def tokenize_and_tag_batch(batch):\n",
        "    return {\"tokenized\": [tokenize_and_tag(ref) for ref in batch[\"cleaned_text\"]]}     "
      ]
    },
    {
      "cell_type": "code",
      "execution_count": 30,
      "metadata": {},
      "outputs": [
        {
          "data": {
            "text/plain": [
              "[('<', 'B-PUNC'),\n",
              " ('https://doi.org', 'O'),\n",
              " ('/', 'B-PUNC'),\n",
              " ('10.1007/bf02163295', 'B-DOI'),\n",
              " ('>', 'B-PUNC')]"
            ]
          },
          "execution_count": 30,
          "metadata": {},
          "output_type": "execute_result"
        }
      ],
      "source": [
        "tokenize_and_tag(\"< https://doi.org/<DOI>10.1007/bf02163295</DOI> >\")"
      ]
    },
    {
      "cell_type": "code",
      "execution_count": 31,
      "metadata": {},
      "outputs": [
        {
          "data": {
            "text/plain": [
              "['', 'DOI']"
            ]
          },
          "execution_count": 31,
          "metadata": {},
          "output_type": "execute_result"
        }
      ],
      "source": [
        "UNIQUE_TAGS"
      ]
    },
    {
      "cell_type": "code",
      "execution_count": 32,
      "metadata": {},
      "outputs": [
        {
          "name": "stderr",
          "output_type": "stream",
          "text": [
            "Map: 100%|██████████| 12234077/12234077 [23:44<00:00, 8585.84 examples/s]\n",
            "Map: 100%|██████████| 679670/679670 [01:12<00:00, 9316.05 examples/s] \n",
            "Map: 100%|██████████| 679670/679670 [01:12<00:00, 9310.76 examples/s] \n"
          ]
        }
      ],
      "source": [
        "datasets = datasets.map(tokenize_and_tag_batch, batched=True)"
      ]
    },
    {
      "cell_type": "code",
      "execution_count": 27,
      "metadata": {},
      "outputs": [
        {
          "name": "stdout",
          "output_type": "stream",
          "text": [
            "<author><family>Chen</family> <given>K-S</given></author>. <publisher>Baishideng Publishing Group Inc.</publisher>, <issued><year>2005</year></issued>. <title>Expression of heparanase mRNA in anti-sense oligonucleotide-transfected human esophageal cancer EC9706 cells</title>[J]. <container-title>World Journal of Gastroenterology</container-title>, <issued><year>2005</year></issued>, <volume>11</volume>(<issue>31</issue>): <page>4916</page>.\n",
            "<author>Chen K-S</author>. <publisher>Baishideng Publishing Group Inc.</publisher>, <year>2005</year>. <title>Expression of heparanase mRNA in anti-sense oligonucleotide-transfected human esophageal cancer EC9706 cells</title>[J]. <container-title>World Journal of Gastroenterology</container-title>, <year>2005</year>, <volume>11</volume>(<issue>31</issue>): <page>4916</page>.\n",
            "[['Chen', 'B-AUTHOR'], ['K-S', 'I-AUTHOR'], ['.', 'B-PUNC'], ['Baishideng', 'B-PUBLISHER'], ['Publishing', 'I-PUBLISHER'], ['Group', 'I-PUBLISHER'], ['Inc', 'I-PUBLISHER'], ['.', 'B-PUNC'], [',', 'B-PUNC'], ['2005', 'B-YEAR'], ['.', 'B-PUNC'], ['Expression', 'B-TITLE'], ['of', 'I-TITLE'], ['heparanase', 'I-TITLE'], ['mRNA', 'I-TITLE'], ['in', 'I-TITLE'], ['anti-sense', 'I-TITLE'], ['oligonucleotide-transfected', 'I-TITLE'], ['human', 'I-TITLE'], ['esophageal', 'I-TITLE'], ['cancer', 'I-TITLE'], ['EC9706', 'I-TITLE'], ['cells', 'I-TITLE'], ['[', 'B-PUNC'], ['J', 'O'], [']', 'B-PUNC'], ['.', 'B-PUNC'], ['World', 'B-CONTAINER-TITLE'], ['Journal', 'I-CONTAINER-TITLE'], ['of', 'I-CONTAINER-TITLE'], ['Gastroenterology', 'I-CONTAINER-TITLE'], [',', 'B-PUNC'], ['2005', 'B-YEAR'], [',', 'B-PUNC'], ['11', 'B-VOLUME'], ['(', 'B-PUNC'], ['31', 'B-ISSUE'], [')', 'B-PUNC'], [':', 'B-PUNC'], ['4916', 'B-PAGE'], ['.', 'B-PUNC']]\n"
          ]
        }
      ],
      "source": [
        "print(datasets['train'][0]['citationStringAnnotated'])\n",
        "print(datasets['train'][0]['cleaned_text'])\n",
        "print(datasets['train'][0]['tokenized'])"
      ]
    },
    {
      "cell_type": "code",
      "execution_count": 33,
      "metadata": {},
      "outputs": [
        {
          "data": {
            "text/plain": [
              "['',\n",
              " 'DOI',\n",
              " 'author',\n",
              " 'publisher',\n",
              " 'year',\n",
              " 'title',\n",
              " 'container-title',\n",
              " 'volume',\n",
              " 'issue',\n",
              " 'page',\n",
              " 'URL',\n",
              " 'ISSN',\n",
              " 'ISBN']"
            ]
          },
          "execution_count": 33,
          "metadata": {},
          "output_type": "execute_result"
        }
      ],
      "source": [
        "UNIQUE_TAGS"
      ]
    },
    {
      "cell_type": "code",
      "execution_count": 34,
      "metadata": {},
      "outputs": [
        {
          "name": "stderr",
          "output_type": "stream",
          "text": [
            "Saving the dataset (42/42 shards): 100%|██████████| 12234077/12234077 [01:41<00:00, 120931.73 examples/s]\n",
            "Saving the dataset (3/3 shards): 100%|██████████| 679670/679670 [00:06<00:00, 103784.23 examples/s]\n",
            "Saving the dataset (3/3 shards): 100%|██████████| 679670/679670 [00:06<00:00, 107967.50 examples/s]\n"
          ]
        }
      ],
      "source": [
        "datasets.save_to_disk(\"processed_dataset\")"
      ]
    }
  ],
  "metadata": {
    "colab": {
      "provenance": []
    },
    "kernelspec": {
      "display_name": "thesis",
      "language": "python",
      "name": "python3"
    },
    "language_info": {
      "codemirror_mode": {
        "name": "ipython",
        "version": 3
      },
      "file_extension": ".py",
      "mimetype": "text/x-python",
      "name": "python",
      "nbconvert_exporter": "python",
      "pygments_lexer": "ipython3",
      "version": "3.9.21"
    }
  },
  "nbformat": 4,
  "nbformat_minor": 0
}
