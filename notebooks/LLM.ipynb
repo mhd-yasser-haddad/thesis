{
 "cells": [
  {
   "cell_type": "code",
   "execution_count": 19,
   "id": "7a935458",
   "metadata": {},
   "outputs": [],
   "source": [
    "import json\n",
    "import ast\n",
    "from itertools import chain\n",
    "from sklearn.metrics import classification_report\n",
    "# from sklearn_crfsuite.metrics import flatten\n",
    "# from sklearn.metrics import classification_report\n",
    "\n",
    "from datasets import load_from_disk\n",
    "\n",
    "from reference_parsing.config import (LABEL2ID)"
   ]
  },
  {
   "cell_type": "code",
   "execution_count": 2,
   "id": "c2fa0c23",
   "metadata": {},
   "outputs": [
    {
     "data": {
      "application/vnd.jupyter.widget-view+json": {
       "model_id": "6f4af1db442a40769a353e37ea91d756",
       "version_major": 2,
       "version_minor": 0
      },
      "text/plain": [
       "Loading dataset from disk:   0%|          | 0/19 [00:00<?, ?it/s]"
      ]
     },
     "metadata": {},
     "output_type": "display_data"
    }
   ],
   "source": [
    "prepared_dataset = load_from_disk(\"./datasets/prepared_dataset\")"
   ]
  },
  {
   "cell_type": "code",
   "execution_count": 8,
   "id": "96d2dc54",
   "metadata": {},
   "outputs": [
    {
     "data": {
      "text/plain": [
       "{'tokens': ['Geiger',\n",
       "  ',',\n",
       "  'R',\n",
       "  '.',\n",
       "  '&',\n",
       "  '',\n",
       "  'Heller',\n",
       "  ',',\n",
       "  'D',\n",
       "  '.',\n",
       "  '.',\n",
       "  '2012',\n",
       "  '.',\n",
       "  'Financial',\n",
       "  'trends',\n",
       "  'in',\n",
       "  'higher',\n",
       "  'education',\n",
       "  ':',\n",
       "  'The',\n",
       "  'United',\n",
       "  'States',\n",
       "  '.',\n",
       "  'Voprosy',\n",
       "  'Obrazovaniya',\n",
       "  '/',\n",
       "  'Educational',\n",
       "  'Studies',\n",
       "  '.',\n",
       "  'Moscow',\n",
       "  ',',\n",
       "  '(',\n",
       "  '3',\n",
       "  ')',\n",
       "  ':',\n",
       "  '5–29',\n",
       "  '.',\n",
       "  'http://dx.doi.org/10.17323/1814-9545-2012-3-5-29',\n",
       "  '.'],\n",
       " 'labels': ['B-AUTHOR',\n",
       "  'B-PUNC',\n",
       "  'I-AUTHOR',\n",
       "  'B-PUNC',\n",
       "  'B-PUNC',\n",
       "  'I-AUTHOR',\n",
       "  'I-AUTHOR',\n",
       "  'B-PUNC',\n",
       "  'I-AUTHOR',\n",
       "  'B-PUNC',\n",
       "  'B-PUNC',\n",
       "  'B-YEAR',\n",
       "  'B-PUNC',\n",
       "  'B-TITLE',\n",
       "  'I-TITLE',\n",
       "  'I-TITLE',\n",
       "  'I-TITLE',\n",
       "  'I-TITLE',\n",
       "  'B-PUNC',\n",
       "  'I-TITLE',\n",
       "  'I-TITLE',\n",
       "  'I-TITLE',\n",
       "  'B-PUNC',\n",
       "  'B-CONTAINER-TITLE',\n",
       "  'I-CONTAINER-TITLE',\n",
       "  'B-PUNC',\n",
       "  'I-CONTAINER-TITLE',\n",
       "  'I-CONTAINER-TITLE',\n",
       "  'B-PUNC',\n",
       "  'I-CONTAINER-TITLE',\n",
       "  'B-PUNC',\n",
       "  'B-PUNC',\n",
       "  'B-ISSUE',\n",
       "  'B-PUNC',\n",
       "  'B-PUNC',\n",
       "  'B-PAGE',\n",
       "  'B-PUNC',\n",
       "  'B-URL',\n",
       "  'B-PUNC']}"
      ]
     },
     "execution_count": 8,
     "metadata": {},
     "output_type": "execute_result"
    }
   ],
   "source": [
    "subset = prepared_dataset[\"test\"].select(range(100))\n",
    "subset[0]\n",
    "\n",
    "# subset.to_csv(\"train_first100.csv\", index=False)"
   ]
  },
  {
   "cell_type": "code",
   "execution_count": 20,
   "id": "9daa7a2e",
   "metadata": {},
   "outputs": [],
   "source": [
    "label2id = LABEL2ID\n",
    "id2label = {v: k for k, v in label2id.items()}\n",
    "label_order = list(label2id.keys())"
   ]
  },
  {
   "cell_type": "code",
   "execution_count": 15,
   "id": "797f3389",
   "metadata": {},
   "outputs": [],
   "source": [
    "with open(\"train_tokens.json\", \"w\", encoding=\"utf-8\") as f_toks, \\\n",
    "     open(\"train_labels.json\", \"w\", encoding=\"utf-8\") as f_labs:\n",
    "    for ex in subset:\n",
    "        # dumps will produce e.g. [\"Chen\",\"K-S\",\".\", ...]\n",
    "        f_toks.write(json.dumps(ex[\"tokens\"], ensure_ascii=False) + \"\\n\")\n",
    "        f_labs.write(json.dumps(ex[\"labels\"],  ensure_ascii=False) + \"\\n\")"
   ]
  },
  {
   "cell_type": "markdown",
   "id": "1066b92c",
   "metadata": {},
   "source": [
    "## Comparing results"
   ]
  },
  {
   "cell_type": "code",
   "execution_count": 162,
   "id": "6ceda6fe",
   "metadata": {},
   "outputs": [
    {
     "name": "stdout",
     "output_type": "stream",
     "text": [
      "['B-AUTHOR', 'B-PUNC', 'I-AUTHOR', 'B-PUNC', 'I-AUTHOR', 'I-AUTHOR', 'B-PUNC', 'I-AUTHOR', 'I-AUTHOR', 'B-PUNC', 'I-AUTHOR', 'B-PUNC', 'O', 'I-AUTHOR', 'I-AUTHOR', 'B-PUNC', 'I-AUTHOR', 'B-PUNC', 'B-PUNC', 'B-TITLE', 'I-TITLE', 'I-TITLE', 'I-TITLE', 'I-TITLE', 'I-TITLE', 'I-TITLE', 'I-TITLE', 'I-TITLE', 'I-TITLE', 'I-TITLE', 'I-TITLE', 'B-PUNC', 'B-CONTAINER-TITLE', 'I-CONTAINER-TITLE', 'B-PUNC', 'B-VOLUME', 'B-PUNC', 'B-ISSUE', 'B-PUNC', 'B-YEAR', 'B-PUNC', 'B-PUNC', 'B-PAGE', 'B-PUNC', 'I-PAGE', 'B-PUNC']\n"
     ]
    }
   ],
   "source": [
    "import re\n",
    "\n",
    "d = r'''\n",
    "{\n",
    "    \"Girgis\": \"B-AUTHOR\",\n",
    "    \",\": \"B-PUNC\",\n",
    "    \"Safwat\": \"I-AUTHOR\",\n",
    "    \",\": \"B-PUNC\",\n",
    "    \"Ibrahim\": \"I-AUTHOR\",\n",
    "    \"Ramzy\": \"I-AUTHOR\",\n",
    "    \",\": \"B-PUNC\",\n",
    "    \"Susan\": \"I-AUTHOR\",\n",
    "    \"C\": \"I-AUTHOR\",\n",
    "    \".\": \"B-PUNC\",\n",
    "    \"Baer\": \"I-AUTHOR\",\n",
    "    \",\": \"B-PUNC\",\n",
    "    \"and\": \"O\",\n",
    "    \"Mary\": \"I-AUTHOR\",\n",
    "    \"R\": \"I-AUTHOR\",\n",
    "    \".\": \"B-PUNC\",\n",
    "    \"Schwartz\": \"I-AUTHOR\",\n",
    "    \",\": \"B-PUNC\",\n",
    "    \"“\": \"B-PUNC\",\n",
    "    \"Fine\": \"B-TITLE\",\n",
    "    \"Needle\": \"I-TITLE\",\n",
    "    \"Aspiration\": \"I-TITLE\",\n",
    "    \"Diagnosis\": \"I-TITLE\",\n",
    "    \"of\": \"I-TITLE\",\n",
    "    \"Transitional\": \"I-TITLE\",\n",
    "    \"Cell\": \"I-TITLE\",\n",
    "    \"Carcinoma\": \"I-TITLE\",\n",
    "    \"Metastatic\": \"I-TITLE\",\n",
    "    \"to\": \"I-TITLE\",\n",
    "    \"the\": \"I-TITLE\",\n",
    "    \"Brain\": \"I-TITLE\",\n",
    "    \",”\": \"B-PUNC\",\n",
    "    \"Acta\": \"B-CONTAINER-TITLE\",\n",
    "    \"Cytologica\": \"I-CONTAINER-TITLE\",\n",
    "    \",\": \"B-PUNC\",\n",
    "    \"xliii\": \"B-VOLUME\",\n",
    "    \"/\": \"B-PUNC\",\n",
    "    \"2\": \"B-ISSUE\",\n",
    "    \"(\": \"B-PUNC\",\n",
    "    \"1999\": \"B-YEAR\",\n",
    "    \")\": \"B-PUNC\",\n",
    "    \",\": \"B-PUNC\",\n",
    "    \"pp\": \"B-PAGE\",\n",
    "    \".\": \"B-PUNC\",\n",
    "    \"235–238\": \"I-PAGE\",\n",
    "    \".\": \"B-PUNC\"\n",
    "}\n",
    "'''\n",
    "\n",
    "values = re.findall(r'\"\\s*:\\s*\"([^\"]+)\"', d)\n",
    "values = ['B-PUNC' if x==': ' else x for x in values]\n",
    "print(values)\n",
    "# with open(\"predectied_labels.txt\", \"a\", encoding=\"utf-8\") as f:\n",
    "#     f.write(str(values))          # writes \"['1989', '.', 'Intellectual', ...]\"\n",
    "#     f.write(\"\\n\")"
   ]
  },
  {
   "cell_type": "code",
   "execution_count": 167,
   "id": "adcca1b8",
   "metadata": {},
   "outputs": [],
   "source": [
    "true_path = \"train_labels.txt\"\n",
    "pred_path = \"predectied_labels.txt\"\n",
    "\n",
    "with open(true_path, \"r\", encoding=\"utf-8\") as f:\n",
    "    true_seqs = [ast.literal_eval(line) for line in f if line.strip()]\n",
    "\n",
    "with open(pred_path, \"r\", encoding=\"utf-8\") as f:\n",
    "    pred_seqs = [ast.literal_eval(line) for line in f if line.strip()]"
   ]
  },
  {
   "cell_type": "code",
   "execution_count": 168,
   "id": "76ae65de",
   "metadata": {},
   "outputs": [],
   "source": [
    "for i,(t_seq, p_seq) in enumerate(zip(true_seqs, pred_seqs)):\n",
    "    if len(t_seq) != len(p_seq):\n",
    "        print(f\"  mismatch at index {i}:  true len={len(t_seq)}, pred len={len(p_seq)}\")"
   ]
  },
  {
   "cell_type": "code",
   "execution_count": 169,
   "id": "42f9e908",
   "metadata": {},
   "outputs": [],
   "source": [
    "y_true = list(chain.from_iterable(true_seqs))\n",
    "y_pred = list(chain.from_iterable(pred_seqs))"
   ]
  },
  {
   "cell_type": "code",
   "execution_count": 170,
   "id": "181a74e3",
   "metadata": {},
   "outputs": [
    {
     "name": "stdout",
     "output_type": "stream",
     "text": [
      "                   precision    recall  f1-score   support\n",
      "\n",
      "         B-AUTHOR       0.44      0.99      0.61        80\n",
      "         I-AUTHOR       0.95      0.67      0.79       375\n",
      "           B-YEAR       0.85      0.99      0.91        87\n",
      "           I-YEAR       0.00      0.00      0.00         0\n",
      "          B-TITLE       0.91      0.94      0.92        95\n",
      "          I-TITLE       0.97      0.93      0.95       674\n",
      "B-CONTAINER-TITLE       0.95      0.90      0.92        96\n",
      "I-CONTAINER-TITLE       0.97      0.88      0.93       250\n",
      "         B-VOLUME       0.90      0.97      0.94        68\n",
      "         I-VOLUME       0.00      0.00      0.00         0\n",
      "          B-ISSUE       0.77      0.85      0.81        27\n",
      "          I-ISSUE       0.00      0.00      0.00         0\n",
      "           B-PAGE       0.86      0.90      0.88        79\n",
      "           I-PAGE       0.00      0.00      0.00         0\n",
      "           B-ISBN       0.00      0.00      0.00         0\n",
      "           I-ISBN       0.00      0.00      0.00         0\n",
      "           B-ISSN       0.00      0.00      0.00         1\n",
      "           I-ISSN       0.00      0.00      0.00         0\n",
      "      B-PUBLISHER       0.87      0.96      0.92        28\n",
      "      I-PUBLISHER       0.96      0.87      0.91        52\n",
      "            B-DOI       0.25      0.26      0.26        23\n",
      "            I-DOI       0.00      0.00      0.00         0\n",
      "            B-URL       0.93      0.93      0.93        29\n",
      "            I-URL       0.00      0.00      0.00         0\n",
      "                O       0.49      0.67      0.57       188\n",
      "           B-PUNC       0.99      0.94      0.96      1244\n",
      "\n",
      "         accuracy                           0.88      3396\n",
      "        macro avg       0.50      0.52      0.51      3396\n",
      "     weighted avg       0.92      0.88      0.89      3396\n",
      "\n"
     ]
    }
   ],
   "source": [
    "print(classification_report(\n",
    "    y_true,\n",
    "    y_pred,\n",
    "    labels=label_order,\n",
    "    zero_division=0\n",
    "))"
   ]
  },
  {
   "cell_type": "code",
   "execution_count": null,
   "id": "fd33d4bd",
   "metadata": {},
   "outputs": [],
   "source": []
  }
 ],
 "metadata": {
  "kernelspec": {
   "display_name": "thesis",
   "language": "python",
   "name": "python3"
  },
  "language_info": {
   "codemirror_mode": {
    "name": "ipython",
    "version": 3
   },
   "file_extension": ".py",
   "mimetype": "text/x-python",
   "name": "python",
   "nbconvert_exporter": "python",
   "pygments_lexer": "ipython3",
   "version": "3.9.21"
  }
 },
 "nbformat": 4,
 "nbformat_minor": 5
}
